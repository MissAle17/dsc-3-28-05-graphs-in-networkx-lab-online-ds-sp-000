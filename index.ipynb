{
 "cells": [
  {
   "cell_type": "markdown",
   "metadata": {
    "slideshow": {
     "slide_type": "slide"
    }
   },
   "source": [
    "# Implementing and Visualizing Graphs with NetworkX - Lab\n",
    "\n",
    "## Introduction\n",
    "\n",
    "In this lab we shall look at implementing and visualizing graphs in networkx based on the methods and capabilities of this library that we've seen in previous code along styled lessons. Again, you are encouraged to refer to networkx documentation during this section due to the sheer number of options and methods available in this library and you will find there more than one ways to solve a problem, most of the times. Let's try to implement and visualize some simple networks here. \n",
    "\n",
    "## Objectives \n",
    "You will be able to:\n",
    "- Create graphs in Python using the GraphX library\n",
    "- Understand properties of nodes and edges, and how they are added and removed to a graph\n",
    "- Visualize graphs with networkx and matplotlib with conditional coloring"
   ]
  },
  {
   "cell_type": "markdown",
   "metadata": {},
   "source": [
    "## Exercise 1\n",
    "\n",
    "Consider the following list of tuples showing connection strengths between a number of cities.\n",
    "```python\n",
    "('Paris', 'Warsaw', 841), ('Warsaw', 'Berlin', 584), ('Berlin', 'London', 1101), ('Paris', 'Barcelona', 1038)\n",
    "```\n",
    "\n",
    "* Create an undirected graph from this list with cities and nodes and given number as the edge weight between them\n",
    "* Print the nodes and edges of the graph\n",
    "* Iterate through the edges and find the highest weight."
   ]
  },
  {
   "cell_type": "code",
   "execution_count": 2,
   "metadata": {},
   "outputs": [],
   "source": [
    "import networkx as nx\n",
    "import matplotlib.pylab as plt"
   ]
  },
  {
   "cell_type": "code",
   "execution_count": 3,
   "metadata": {},
   "outputs": [
    {
     "name": "stdout",
     "output_type": "stream",
     "text": [
      "[('Paris', 'Warsaw', {'weight': 841}), ('Paris', 'Barcelona', {'weight': 1038}), ('Warsaw', 'Berlin', {'weight': 584}), ('Berlin', 'London', {'weight': 1101})]\n"
     ]
    }
   ],
   "source": [
    "# Your Solution here \n",
    "G = nx.Graph()\n",
    "city_list = ('Paris', 'Warsaw', 841), ('Warsaw', 'Berlin', 584), ('Berlin', 'London', 1101), ('Paris', 'Barcelona', 1038)\n",
    "G.add_weighted_edges_from(city_list)\n",
    "\n",
    "print(G.edges(data=True))\n",
    "# Highest weight is: 1101"
   ]
  },
  {
   "cell_type": "code",
   "execution_count": null,
   "metadata": {},
   "outputs": [],
   "source": [
    "# Iterate through the edges and find the highest weight.\n",
    "result =max([w['weight'] for u, v, w in G.edges(data=True)])\n",
    "print(\"Highest weight is:\",result)"
   ]
  },
  {
   "cell_type": "markdown",
   "metadata": {},
   "source": [
    "## Drawing Graphs"
   ]
  },
  {
   "cell_type": "markdown",
   "metadata": {
    "slideshow": {
     "slide_type": "notes"
    }
   },
   "source": [
    "Vizualizing networks involves position the nodes and edges in a way such that no nodes overlap, connected nodes are near each other, none of the labels overlap etc. We use what is called a *layout* to plot or visualize graphs in networkx. \n",
    "\n",
    "> A layout is an algorithm used to position nodes and edges on a plot automatically in aesthetically and informationally satisfactory ways.\n",
    "\n",
    "There are several different layout algorithms based on of physical repulsion and spring systems. One important issue is that each layout typically has random initial conditions. Running a plot function twice will return two different plots, both following the rules of the algorithm, but differing due to the initial conditions of the layout. [More details here](https://networkx.github.io/documentation/stable/reference/drawing.html#layout)"
   ]
  },
  {
   "cell_type": "markdown",
   "metadata": {},
   "source": [
    "## Exercise 2\n",
    "\n",
    "For this exercise, you are required to replicate the graph shown here. \n",
    "\n",
    "![](graphx.png)"
   ]
  },
  {
   "cell_type": "markdown",
   "metadata": {},
   "source": [
    "Use the `nx.draw()` function, while manipulating following input parameters to mimic the above behavior:\n",
    "\n",
    "- node_size\n",
    "- node_color\n",
    "- width \n",
    "- edge color\n",
    "- font size\n",
    "\n",
    "Here are the specifications for this graph \n",
    "- node 1 size = 800 , nodes 2-5 size = 200 (the size of node may represent its importance in a graph)\n",
    "- Edge thickness for fat edges = 20 , thin edges = 5 ( The thickness may represent the weight of a link)\n",
    "- edge color = '#A0CBE2'\n",
    "- node color = 'salmon'\n",
    "\n",
    "(you are welcome to try different values in above)\n",
    "\n",
    ">Remember, due to random generation, your graph may appear to have a different layout, which is perfectly fine. "
   ]
  },
  {
   "cell_type": "code",
   "execution_count": null,
   "metadata": {},
   "outputs": [],
   "source": [
    "# Your solution here "
   ]
  },
  {
   "cell_type": "markdown",
   "metadata": {},
   "source": [
    "## Exercise 3\n",
    "\n",
    "Let's reload the graph we created for Grey's Anatomy as a gefx file. \n",
    "\n",
    "- Load the 'GA_graph.gexf' file using `nx.read_gexf()` \n",
    "- show node and edge information from the graph\n",
    "- draw the graph without any customizations"
   ]
  },
  {
   "cell_type": "code",
   "execution_count": null,
   "metadata": {
    "slideshow": {
     "slide_type": "subslide"
    }
   },
   "outputs": [],
   "source": [
    "# Code here \n",
    "\n",
    "# Type: Graph\n",
    "# Number of nodes: 32\n",
    "# Number of edges: 34\n",
    "# Average degree:   2.1250"
   ]
  },
  {
   "cell_type": "markdown",
   "metadata": {
    "slideshow": {
     "slide_type": "slide"
    }
   },
   "source": [
    "## Exercise 4\n",
    "\n",
    "Plot the above graph in a circular layout as shown below \n",
    "- Generate the layout and place nodes and edges\n",
    "- plot nodes, labels, and edges with options\n",
    "    - fig size = 10,10\n",
    "    - node size = 500\n",
    "    - edge width = 3\n",
    "    - dotted edge style\n",
    "    - edge color = grey"
   ]
  },
  {
   "cell_type": "code",
   "execution_count": null,
   "metadata": {
    "slideshow": {
     "slide_type": "subslide"
    }
   },
   "outputs": [],
   "source": [
    "# Code here "
   ]
  },
  {
   "cell_type": "markdown",
   "metadata": {
    "slideshow": {
     "slide_type": "slide"
    }
   },
   "source": [
    "## Exercise 5\n",
    "\n",
    "Now we shall add an extra property to our GA graph. We shall add a dead_or_alive attribute to our graph based on dictionary given below. The k:v pairs provide us with node:property e.g. `'karev' : 'alive'`. \n",
    "\n",
    "- Execute the following cell to read this dictionary into memory and iterate through the dictionary, storing the 'dead' or 'alive' strings in a `status` attribute for each node in the graph above. "
   ]
  },
  {
   "cell_type": "code",
   "execution_count": null,
   "metadata": {
    "slideshow": {
     "slide_type": "skip"
    }
   },
   "outputs": [],
   "source": [
    "from seaborn import color_palette, set_style, palplot\n",
    "dead_or_alive = {\n",
    "    'karev' : 'alive',\n",
    "    'hank' : 'alive',\n",
    "    'izzie' : 'alive',\n",
    "    'mrs. seabury' : 'alive',\n",
    "    'ben' : 'alive',\n",
    "    'grey' : 'alive',\n",
    "    'sloan' : 'dead',\n",
    "    'steve' : 'alive',\n",
    "    'kepner' : 'alive',\n",
    "    'colin' : 'alive',\n",
    "    'avery' : 'alive',\n",
    "    'bailey' : 'alive',\n",
    "    'chief' : 'alive',\n",
    "    'preston' : 'alive',\n",
    "    'ellis grey' : 'dead',\n",
    "    \"o'malley\" : 'dead',\n",
    "    'lexi' : 'dead',\n",
    "    'torres' : 'alive',\n",
    "    'yang' : 'alive',\n",
    "    'addison' : 'alive',\n",
    "    'olivia' : 'alive',\n",
    "    'altman' : 'alive',\n",
    "    'denny' : 'dead',\n",
    "    'arizona' : 'alive',\n",
    "    'adele' : 'dead',\n",
    "    'derek' : 'dead',\n",
    "    'nancy' : 'alive',\n",
    "    'thatch grey' : 'alive',\n",
    "    'susan grey' : 'dead',\n",
    "    'owen' : 'alive',\n",
    "    'tucker' : 'alive',\n",
    "    'finn' : 'alive'\n",
    "}"
   ]
  },
  {
   "cell_type": "code",
   "execution_count": null,
   "metadata": {},
   "outputs": [],
   "source": [
    "# Read DOA strings into 'status' node attribute\n",
    "\n",
    "# Code here \n",
    " "
   ]
  },
  {
   "cell_type": "markdown",
   "metadata": {},
   "source": [
    "Here is a function `create_color_map()` that takes in a graph, an attribute for conditional coloring and a seaborn color palette. This function returns a hex color mapping for coloring the nodes of a graph, based on number of classes present in the given attribute. So for our DOA `status` attribute, we need two colors. "
   ]
  },
  {
   "cell_type": "code",
   "execution_count": null,
   "metadata": {
    "slideshow": {
     "slide_type": "subslide"
    }
   },
   "outputs": [],
   "source": [
    "def create_color_map(G, attribute, seaborn_palette=\"colorblind\"):\n",
    "    \"\"\"Return a list of hex color mappings for node attributes\"\"\"\n",
    "\n",
    "    attr = [G.node[label][attribute] for label in G.nodes()]\n",
    "    # get the set of possible attributes\n",
    "    attr_uniq = list(set(attr))\n",
    "    vals = len(attr_uniq)\n",
    "    # generate color palette from seaborn\n",
    "    palette = color_palette(seaborn_palette, vals).as_hex()\n",
    "    # create a mapping of attribute to color\n",
    "    cmap = dict(zip(attr_uniq, palette))\n",
    "    # map the attribute for each node to the color it represents\n",
    "    colors = [cmap[attr] for attr in attr]\n",
    "\n",
    "    return colors, cmap, palette"
   ]
  },
  {
   "cell_type": "markdown",
   "metadata": {},
   "source": [
    "- Pass in the graph and `status` attribute for coloring nodes. "
   ]
  },
  {
   "cell_type": "code",
   "execution_count": null,
   "metadata": {
    "slideshow": {
     "slide_type": "fragment"
    }
   },
   "outputs": [],
   "source": [
    "# Uncomment and run below to get the distinct node colors, a color map and palette to use\n",
    "# node_colors, color_map, palette = create_color_map(GA, 'status')"
   ]
  },
  {
   "cell_type": "markdown",
   "metadata": {},
   "source": [
    "## Exercise 6 \n",
    "Use `node_colors, color_map, palette` variables calculated above and perform following tasks\n",
    "\n",
    "- Set up a spring layout for the graph\n",
    "- Use `nx.draw_network_nodes/edges/labels()` as seen earlier to plot the graph shown in the output. \n",
    "- Your graph will effectively be the same as the first graph, but the nodes will be colored to show if the character is dead or alive. "
   ]
  },
  {
   "cell_type": "code",
   "execution_count": null,
   "metadata": {
    "slideshow": {
     "slide_type": "subslide"
    }
   },
   "outputs": [],
   "source": [
    "# Code here "
   ]
  },
  {
   "cell_type": "markdown",
   "metadata": {},
   "source": [
    "## Summary \n",
    "\n",
    "In this lab, we used the skills we have seen in the previous lessons to build simple graphs. We looked at loading a stored graph into networkx and color coding the nodes. We also plotted a simple graph with changing edge thickness to show edge weights. These techniques can be further explored and combined to create great looking graphs. "
   ]
  }
 ],
 "metadata": {
  "kernelspec": {
   "display_name": "Python 3",
   "language": "python",
   "name": "python3"
  },
  "language_info": {
   "codemirror_mode": {
    "name": "ipython",
    "version": 3
   },
   "file_extension": ".py",
   "mimetype": "text/x-python",
   "name": "python",
   "nbconvert_exporter": "python",
   "pygments_lexer": "ipython3",
   "version": "3.6.8"
  }
 },
 "nbformat": 4,
 "nbformat_minor": 1
}
